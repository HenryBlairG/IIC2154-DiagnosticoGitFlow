{
  "cells": [
    {
      "cell_type": "markdown",
      "metadata": {
        "colab_type": "text",
        "id": "view-in-github"
      },
      "source": [
        "<a href=\"https://colab.research.google.com/github/HenryBlairG/IIC2154-DiagnosticoGitFlow/blob/feature%2Fsetup_py-project/main.ipynb\" target=\"_parent\"><img src=\"https://colab.research.google.com/assets/colab-badge.svg\" alt=\"Open In Colab\"/></a>"
      ]
    },
    {
      "cell_type": "markdown",
      "metadata": {
        "id": "cQo7qxGe4nWS"
      },
      "source": [
        "# Main File to run Twitter Top 10's\n",
        "***"
      ]
    },
    {
      "cell_type": "markdown",
      "metadata": {
        "id": "cY_hxCR04nWU"
      },
      "source": [
        "## 1. Librerias Necesarias"
      ]
    },
    {
      "cell_type": "code",
      "execution_count": 1,
      "metadata": {
        "id": "Nhv-8CuP4nWU"
      },
      "outputs": [],
      "source": [
        "import json as js\n",
        "import pandas as pd\n",
        "import re"
      ]
    },
    {
      "cell_type": "markdown",
      "metadata": {
        "id": "MFYfNPky6hHI"
      },
      "source": [
        "## 2. Funciones de Utilidad"
      ]
    },
    {
      "cell_type": "code",
      "execution_count": 2,
      "metadata": {
        "id": "RGu67XJP6k_e"
      },
      "outputs": [],
      "source": [
        "def load_data(path: str='dataset.json') -> pd.DataFrame:\n",
        "    '''\n",
        "    load_data Load dataset from specified path\n",
        "\n",
        "    Load data from path and preprocess for application consumption by removing unnecesary information\n",
        "\n",
        "    Args:\n",
        "        path (str, optional): path where data is saved. Defaults to 'dataset.json'.\n",
        "\n",
        "    Returns:\n",
        "        pd.DataFrame: dataset with necessary information for consumption\n",
        "    '''\n",
        "    with open(path) as dataset_raw:\n",
        "        df = pd.DataFrame.from_records(js.loads(l) for l in dataset_raw)\n",
        "        df = df[[\n",
        "            'date',         # For 10 Best dates with most tweets\n",
        "            'content',      # For 10 Hashtags most used\n",
        "            'user',         # For 10 Users with most tweets\n",
        "            'retweetCount'  # For 10 Tweets most retweeted\n",
        "        ]]\n",
        "        return df\n",
        "\n",
        "# load_data().head(5)"
      ]
    },
    {
      "cell_type": "markdown",
      "metadata": {
        "id": "vDTp_qdv6ltC"
      },
      "source": [
        "## 3. Rankings"
      ]
    },
    {
      "cell_type": "markdown",
      "metadata": {},
      "source": [
        "### 3.1 Los top 10 tweets más retweeted"
      ]
    },
    {
      "cell_type": "code",
      "execution_count": 3,
      "metadata": {
        "id": "hZUDhWIt6pmc"
      },
      "outputs": [
        {
          "name": "stdout",
          "output_type": "stream",
          "text": [
            "                                                  content  retweetCount\n",
            "408128  why aren’t we talking about this?! #FarmersPro...        315547\n",
            "395142  We stand in solidarity with the #FarmersProtes...        103957\n",
            "266196  I still #StandWithFarmers and support their pe...         67694\n",
            "366579  “Paid actors,” huh? Quite the casting director...         35921\n",
            "372793  What in the human rights violations is going o...         26972\n",
            "314192  Happy to share that I’ve donated $10,000 to pr...         23251\n",
            "215034  There has been much social media coverage arou...         20132\n",
            "398011  Farmers feed the world. Fight for them. Protec...         18744\n",
            "325261  Should be talking about this! #FarmersProtest\\...         17368\n",
            "163689  To all of my influencer/celeb friends- read up...         15677\n"
          ]
        },
        {
          "data": {
            "text/plain": [
              "True"
            ]
          },
          "execution_count": 3,
          "metadata": {},
          "output_type": "execute_result"
        }
      ],
      "source": [
        "def tweets_most_retweeted(qty: int=10, df: pd.DataFrame=load_data()) -> bool:\n",
        "    '''\n",
        "    tweets_most_retweeted table of content and retweets count\n",
        "\n",
        "    Sort DataFrame by retweets count and display the content of the specified best\n",
        "\n",
        "    Args:\n",
        "        qty (int, optional): number of tweets to be displayed. Defaults to 10.\n",
        "        df (pd.DataFrame, optional): data source. Defaults to function call load_data().\n",
        "\n",
        "    Returns:\n",
        "        bool: Flow control, True if everything works correctly\n",
        "    '''\n",
        "    top_qty = df.sort_values('retweetCount', ascending=False).head(qty)\n",
        "    print(top_qty[['content', 'retweetCount']])\n",
        "    return True\n",
        "\n",
        "tweets_most_retweeted()\n"
      ]
    },
    {
      "cell_type": "markdown",
      "metadata": {
        "id": "DSvHUR6H6qMO"
      },
      "source": [
        "## 4. Funcion Principal"
      ]
    },
    {
      "cell_type": "code",
      "execution_count": 3,
      "metadata": {
        "id": "bsnd12fq6wLk"
      },
      "outputs": [],
      "source": [
        "def main():\n",
        "    '''\n",
        "    main executes selected option\n",
        "\n",
        "    display options and executes validated option\n",
        "    '''\n",
        "    options = dict(\n",
        "        exit=exit\n",
        "    )\n",
        "    \n",
        "    res = True\n",
        "    while res:\n",
        "        for i, k in enumerate(options.keys()):\n",
        "            print(f'{i+1}. {k}')\n",
        "        \n",
        "        option = input('Seleccione Una Opción: ')\n",
        "        while option not in options:\n",
        "            option = input('Opcion no Encontrada. Seleccione Una Opción: ')\n",
        "        \n",
        "        ex = options.get(option, lambda: False)\n",
        "        res = ex()\n",
        "        res_string = f'Resultado:\\n{res}' if res else ''\n",
        "        \n",
        "        print(f'{res_string}\\n{\"=\" *100}')"
      ]
    },
    {
      "cell_type": "markdown",
      "metadata": {
        "id": "-drOkJHi6wwE"
      },
      "source": [
        "## 5. Ejecución"
      ]
    },
    {
      "cell_type": "code",
      "execution_count": 4,
      "metadata": {
        "colab": {
          "base_uri": "https://localhost:8080/"
        },
        "id": "6Nm0DbMV6zcQ",
        "outputId": "d425eac3-37d7-43ed-a395-1a1ea8db21ba"
      },
      "outputs": [
        {
          "name": "stdout",
          "output_type": "stream",
          "text": [
            "1. exit\n",
            "\n",
            "====================================================================================================\n"
          ]
        }
      ],
      "source": [
        "if __name__ == '__main__':\n",
        "    main()"
      ]
    }
  ],
  "metadata": {
    "colab": {
      "include_colab_link": true,
      "name": "main.ipynb",
      "provenance": []
    },
    "interpreter": {
      "hash": "df0893f56f349688326838aaeea0de204df53a132722cbd565e54b24a8fec5f6"
    },
    "kernelspec": {
      "display_name": "Python 3.8.0 64-bit",
      "language": "python",
      "name": "python3"
    },
    "language_info": {
      "codemirror_mode": {
        "name": "ipython",
        "version": 3
      },
      "file_extension": ".py",
      "mimetype": "text/x-python",
      "name": "python",
      "nbconvert_exporter": "python",
      "pygments_lexer": "ipython3",
      "version": "3.9.7"
    },
    "orig_nbformat": 4
  },
  "nbformat": 4,
  "nbformat_minor": 0
}
