{
  "cells": [
    {
      "cell_type": "markdown",
      "metadata": {
        "colab_type": "text",
        "id": "view-in-github"
      },
      "source": [
        "<a href=\"https://colab.research.google.com/github/HenryBlairG/IIC2154-DiagnosticoGitFlow/blob/feature%2Fsetup_py-project/main.ipynb\" target=\"_parent\"><img src=\"https://colab.research.google.com/assets/colab-badge.svg\" alt=\"Open In Colab\"/></a>"
      ]
    },
    {
      "cell_type": "markdown",
      "metadata": {
        "id": "cQo7qxGe4nWS"
      },
      "source": [
        "# Main File to run Twitter Top 10's\n",
        "***"
      ]
    },
    {
      "cell_type": "markdown",
      "metadata": {
        "id": "cY_hxCR04nWU"
      },
      "source": [
        "## 1. Librerias Necesarias"
      ]
    },
    {
      "cell_type": "code",
      "execution_count": 1,
      "metadata": {
        "id": "Nhv-8CuP4nWU"
      },
      "outputs": [],
      "source": [
        "import json as js\n",
        "import pandas as pd\n",
        "import re"
      ]
    },
    {
      "cell_type": "markdown",
      "metadata": {
        "id": "MFYfNPky6hHI"
      },
      "source": [
        "## 2. Funciones de Utilidad"
      ]
    },
    {
      "cell_type": "code",
      "execution_count": 2,
      "metadata": {
        "id": "RGu67XJP6k_e"
      },
      "outputs": [],
      "source": [
        "def load_data(path: str='dataset.json') -> pd.DataFrame:\n",
        "    '''\n",
        "    load_data Load dataset from specified path\n",
        "\n",
        "    Load data from path and preprocess for application consumption by removing unnecesary information\n",
        "\n",
        "    Args:\n",
        "        path (str, optional): path where data is saved. Defaults to 'dataset.json'.\n",
        "\n",
        "    Returns:\n",
        "        pd.DataFrame: dataset with necessary information for consumption\n",
        "    '''\n",
        "    with open(path) as dataset_raw:\n",
        "        df = pd.DataFrame.from_records(js.loads(l) for l in dataset_raw)\n",
        "        df = df[[\n",
        "            'date',         # For 10 Best dates with most tweets\n",
        "            'content',      # For 10 Hashtags most used\n",
        "            'user',         # For 10 Users with most tweets\n",
        "            'retweetCount'  # For 10 Tweets most retweeted\n",
        "        ]]\n",
        "        return df\n",
        "\n",
        "# load_data().head(5)"
      ]
    },
    {
      "cell_type": "markdown",
      "metadata": {
        "id": "vDTp_qdv6ltC"
      },
      "source": [
        "## 3. Rankings"
      ]
    },
    {
      "cell_type": "markdown",
      "metadata": {},
      "source": [
        "### 3.1 Los top 10 tweets más retweeted"
      ]
    },
    {
      "cell_type": "code",
      "execution_count": 3,
      "metadata": {
        "id": "hZUDhWIt6pmc"
      },
      "outputs": [],
      "source": [
        "def tweets_most_retweeted(qty: int=10, df: pd.DataFrame=None) -> bool:\n",
        "    '''\n",
        "    tweets_most_retweeted table of content and retweets count\n",
        "\n",
        "    Sort DataFrame by retweets count and display the content of the specified best\n",
        "\n",
        "    Args:\n",
        "        qty (int, optional): number of tweets to be displayed. Defaults to 10.\n",
        "        df (pd.DataFrame, optional): data source. Defaults to None.\n",
        "\n",
        "    Returns:\n",
        "        bool: Flow control, True if everything works correctly\n",
        "    '''\n",
        "    top_qty = df.sort_values('retweetCount', ascending=False).head(qty)\n",
        "    print(top_qty[['content', 'retweetCount']])\n",
        "    return True\n",
        "\n",
        "# tweets_most_retweeted()\n"
      ]
    },
    {
      "cell_type": "markdown",
      "metadata": {},
      "source": [
        "### 3.2 Los top 10 usuarios en función a la cantidad de tweets que emitieron"
      ]
    },
    {
      "cell_type": "code",
      "execution_count": 4,
      "metadata": {},
      "outputs": [],
      "source": [
        "def users_most_tweet_count(qty: int=10, df: pd.DataFrame=None) -> bool:\n",
        "    '''\n",
        "    users_most_tweet_count table of users and tweets count\n",
        "\n",
        "    Group Dataframe by users and sort by tweets count and display username and tweets count \n",
        "\n",
        "    Args:\n",
        "        qty (int, optional): number of users to be displayed. Defaults to 10.\n",
        "        df (pd.DataFrame, optional): data source. Defaults to None.\n",
        "\n",
        "    Returns:\n",
        "        bool: Flow control, True if everything works correctly\n",
        "    '''\n",
        "    users_df = df[['user', 'content']].copy(deep=True)\n",
        "    users_df['username'] = users_df.user.map(lambda x: x['username'])\n",
        "    users_df['num_tweets'] = users_df['content']\n",
        "    users_df = users_df[['username', 'num_tweets']]\n",
        "    users_df = users_df.groupby('username').count()\n",
        "    users_df = users_df.sort_values('num_tweets', ascending=False)\n",
        "    print(users_df.head(10))\n",
        "    return True\n",
        "\n",
        "# users_most_tweet_count()"
      ]
    },
    {
      "cell_type": "markdown",
      "metadata": {},
      "source": [
        "### 3.3 Los top 10 días donde hay más tweets"
      ]
    },
    {
      "cell_type": "code",
      "execution_count": 5,
      "metadata": {},
      "outputs": [
        {
          "name": "stdout",
          "output_type": "stream",
          "text": [
            "                           num_tweets\n",
            "date                                 \n",
            "2021-02-01T22:48:17+00:00          19\n",
            "2021-02-03T20:12:09+00:00           8\n",
            "2021-02-03T18:42:09+00:00           8\n",
            "2021-02-02T07:21:31+00:00           7\n",
            "2021-02-03T07:21:46+00:00           7\n",
            "2021-02-04T04:25:44+00:00           7\n",
            "2021-02-03T11:03:44+00:00           7\n",
            "2021-02-03T09:55:29+00:00           7\n",
            "2021-02-04T05:23:54+00:00           7\n",
            "2021-02-03T10:07:16+00:00           7\n"
          ]
        },
        {
          "data": {
            "text/plain": [
              "True"
            ]
          },
          "execution_count": 5,
          "metadata": {},
          "output_type": "execute_result"
        }
      ],
      "source": [
        "def dates_most_tweet_count(qty: int=10, df: pd.DataFrame=None) -> bool:\n",
        "    '''\n",
        "    users_most_tweet_count table of dates and tweets count\n",
        "\n",
        "    Group Dataframe by users and sort by tweets count and display username and tweets count \n",
        "\n",
        "    Args:\n",
        "        qty (int, optional): number of users to be displayed. Defaults to 10.\n",
        "        df (pd.DataFrame, optional): data source. Defaults to None.\n",
        "\n",
        "    Returns:\n",
        "        bool: Flow control, True if everything works correctly\n",
        "    '''\n",
        "    dates_df = df[['date', 'content']].copy(deep=True)\n",
        "    dates_df['num_tweets'] = dates_df['content']\n",
        "    dates_df = dates_df[['date', 'num_tweets']]\n",
        "    dates_df = dates_df.groupby('date').count()\n",
        "    dates_df = dates_df.sort_values('num_tweets', ascending=False)\n",
        "    print(dates_df.head(10))\n",
        "    return True\n",
        "\n",
        "dates_most_tweet_count(df=load_data())"
      ]
    },
    {
      "cell_type": "markdown",
      "metadata": {
        "id": "DSvHUR6H6qMO"
      },
      "source": [
        "## 4. Funcion Principal"
      ]
    },
    {
      "cell_type": "code",
      "execution_count": null,
      "metadata": {
        "id": "bsnd12fq6wLk"
      },
      "outputs": [],
      "source": [
        "def main():\n",
        "    '''\n",
        "    main executes selected option\n",
        "\n",
        "    display options and executes validated option\n",
        "    '''\n",
        "    options = dict(\n",
        "        top10retweets=tweets_most_retweeted,\n",
        "        top10users=users_most_tweet_count,\n",
        "        exit=exit\n",
        "    )\n",
        "    \n",
        "    res = True\n",
        "    while res:\n",
        "        for i, k in enumerate(options.keys()):\n",
        "            print(f'{i+1}. {k}')\n",
        "        \n",
        "        option = input('Seleccione Una Opción: ')\n",
        "        while option not in options:\n",
        "            option = input('Opcion no Encontrada. Seleccione Una Opción: ')\n",
        "        \n",
        "        ex = options.get(option, lambda: False)\n",
        "        res = ex()\n",
        "        res_string = f'Resultado:\\n{res}' if res else ''\n",
        "        \n",
        "        print(f'{res_string}\\n{\"=\" *100}')"
      ]
    },
    {
      "cell_type": "markdown",
      "metadata": {
        "id": "-drOkJHi6wwE"
      },
      "source": [
        "## 5. Ejecución"
      ]
    },
    {
      "cell_type": "code",
      "execution_count": null,
      "metadata": {
        "colab": {
          "base_uri": "https://localhost:8080/"
        },
        "id": "6Nm0DbMV6zcQ",
        "outputId": "d425eac3-37d7-43ed-a395-1a1ea8db21ba"
      },
      "outputs": [
        {
          "name": "stdout",
          "output_type": "stream",
          "text": [
            "1. top10retweets\n",
            "2. exit\n",
            "\n",
            "====================================================================================================\n"
          ]
        }
      ],
      "source": [
        "if __name__ == '__main__':\n",
        "    main()"
      ]
    }
  ],
  "metadata": {
    "colab": {
      "include_colab_link": true,
      "name": "main.ipynb",
      "provenance": []
    },
    "interpreter": {
      "hash": "df0893f56f349688326838aaeea0de204df53a132722cbd565e54b24a8fec5f6"
    },
    "kernelspec": {
      "display_name": "Python 3.8.0 64-bit",
      "language": "python",
      "name": "python3"
    },
    "language_info": {
      "codemirror_mode": {
        "name": "ipython",
        "version": 3
      },
      "file_extension": ".py",
      "mimetype": "text/x-python",
      "name": "python",
      "nbconvert_exporter": "python",
      "pygments_lexer": "ipython3",
      "version": "3.9.7"
    },
    "orig_nbformat": 4
  },
  "nbformat": 4,
  "nbformat_minor": 0
}
