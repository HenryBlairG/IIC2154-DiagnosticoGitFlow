{
  "cells": [
    {
      "cell_type": "markdown",
      "metadata": {
        "colab_type": "text",
        "id": "view-in-github"
      },
      "source": [
        "<a href=\"https://colab.research.google.com/github/HenryBlairG/IIC2154-DiagnosticoGitFlow/blob/feature%2Fsetup_py-project/main.ipynb\" target=\"_parent\"><img src=\"https://colab.research.google.com/assets/colab-badge.svg\" alt=\"Open In Colab\"/></a>"
      ]
    },
    {
      "cell_type": "markdown",
      "metadata": {
        "id": "cQo7qxGe4nWS"
      },
      "source": [
        "# Main File to run Twitter Top 10's\n",
        "***"
      ]
    },
    {
      "cell_type": "markdown",
      "metadata": {
        "id": "cY_hxCR04nWU"
      },
      "source": [
        "## 1. Librerias Necesarias"
      ]
    },
    {
      "cell_type": "code",
      "execution_count": 1,
      "metadata": {
        "id": "Nhv-8CuP4nWU"
      },
      "outputs": [],
      "source": [
        "import json as js\n",
        "import pandas as pd\n",
        "import re"
      ]
    },
    {
      "cell_type": "markdown",
      "metadata": {
        "id": "MFYfNPky6hHI"
      },
      "source": [
        "## 2. Funciones de Utilidad"
      ]
    },
    {
      "cell_type": "code",
      "execution_count": 2,
      "metadata": {
        "id": "RGu67XJP6k_e"
      },
      "outputs": [
        {
          "data": {
            "text/html": [
              "<div>\n",
              "<style scoped>\n",
              "    .dataframe tbody tr th:only-of-type {\n",
              "        vertical-align: middle;\n",
              "    }\n",
              "\n",
              "    .dataframe tbody tr th {\n",
              "        vertical-align: top;\n",
              "    }\n",
              "\n",
              "    .dataframe thead th {\n",
              "        text-align: right;\n",
              "    }\n",
              "</style>\n",
              "<table border=\"1\" class=\"dataframe\">\n",
              "  <thead>\n",
              "    <tr style=\"text-align: right;\">\n",
              "      <th></th>\n",
              "      <th>date</th>\n",
              "      <th>content</th>\n",
              "      <th>user</th>\n",
              "      <th>retweetCount</th>\n",
              "    </tr>\n",
              "  </thead>\n",
              "  <tbody>\n",
              "    <tr>\n",
              "      <th>0</th>\n",
              "      <td>2021-03-30T03:33:46+00:00</td>\n",
              "      <td>Support 👇\\n\\n#FarmersProtest</td>\n",
              "      <td>{'username': 'ShashiRajbhar6', 'displayname': ...</td>\n",
              "      <td>0</td>\n",
              "    </tr>\n",
              "    <tr>\n",
              "      <th>1</th>\n",
              "      <td>2021-03-30T03:33:23+00:00</td>\n",
              "      <td>Supporting farmers means supporting our countr...</td>\n",
              "      <td>{'username': 'kaursuk06272818', 'displayname':...</td>\n",
              "      <td>0</td>\n",
              "    </tr>\n",
              "    <tr>\n",
              "      <th>2</th>\n",
              "      <td>2021-03-30T03:31:00+00:00</td>\n",
              "      <td>Support farmers if you are related to food #St...</td>\n",
              "      <td>{'username': 'kaursuk06272818', 'displayname':...</td>\n",
              "      <td>0</td>\n",
              "    </tr>\n",
              "    <tr>\n",
              "      <th>3</th>\n",
              "      <td>2021-03-30T03:30:45+00:00</td>\n",
              "      <td>#StopHateAgainstFarmers support #FarmersProtes...</td>\n",
              "      <td>{'username': 'SukhdevSingh_', 'displayname': '...</td>\n",
              "      <td>1</td>\n",
              "    </tr>\n",
              "    <tr>\n",
              "      <th>4</th>\n",
              "      <td>2021-03-30T03:30:30+00:00</td>\n",
              "      <td>You hate farmers I hate you, \\nif you love the...</td>\n",
              "      <td>{'username': 'Davidmu66668113', 'displayname':...</td>\n",
              "      <td>0</td>\n",
              "    </tr>\n",
              "  </tbody>\n",
              "</table>\n",
              "</div>"
            ],
            "text/plain": [
              "                        date  \\\n",
              "0  2021-03-30T03:33:46+00:00   \n",
              "1  2021-03-30T03:33:23+00:00   \n",
              "2  2021-03-30T03:31:00+00:00   \n",
              "3  2021-03-30T03:30:45+00:00   \n",
              "4  2021-03-30T03:30:30+00:00   \n",
              "\n",
              "                                             content  \\\n",
              "0                       Support 👇\\n\\n#FarmersProtest   \n",
              "1  Supporting farmers means supporting our countr...   \n",
              "2  Support farmers if you are related to food #St...   \n",
              "3  #StopHateAgainstFarmers support #FarmersProtes...   \n",
              "4  You hate farmers I hate you, \\nif you love the...   \n",
              "\n",
              "                                                user  retweetCount  \n",
              "0  {'username': 'ShashiRajbhar6', 'displayname': ...             0  \n",
              "1  {'username': 'kaursuk06272818', 'displayname':...             0  \n",
              "2  {'username': 'kaursuk06272818', 'displayname':...             0  \n",
              "3  {'username': 'SukhdevSingh_', 'displayname': '...             1  \n",
              "4  {'username': 'Davidmu66668113', 'displayname':...             0  "
            ]
          },
          "execution_count": 2,
          "metadata": {},
          "output_type": "execute_result"
        }
      ],
      "source": [
        "def load_data(path: str='dataset.json') -> pd.DataFrame:\n",
        "    '''\n",
        "    load_data Load dataset from specified path\n",
        "\n",
        "    Load data from path and preprocess for application consumption by removing unnecesary information\n",
        "\n",
        "    Args:\n",
        "        path (str, optional): path where data is saved. Defaults to 'dataset.json'.\n",
        "\n",
        "    Returns:\n",
        "        pd.DataFrame: dataset with necessary information for consumption\n",
        "    '''\n",
        "    with open(path) as dataset_raw:\n",
        "        df = pd.DataFrame.from_records(js.loads(l) for l in dataset_raw)\n",
        "        df = df[[\n",
        "            'date',         # For 10 Best dates with most tweets\n",
        "            'content',      # For 10 Hashtags most used\n",
        "            'user',         # For 10 Users with most tweets\n",
        "            'retweetCount'  # For 10 Tweets most retweeted\n",
        "        ]]\n",
        "        return df\n",
        "\n",
        "load_data().head(5)"
      ]
    },
    {
      "cell_type": "markdown",
      "metadata": {
        "id": "vDTp_qdv6ltC"
      },
      "source": [
        "## 3. Rankings"
      ]
    },
    {
      "cell_type": "code",
      "execution_count": null,
      "metadata": {
        "id": "hZUDhWIt6pmc"
      },
      "outputs": [],
      "source": []
    },
    {
      "cell_type": "markdown",
      "metadata": {
        "id": "DSvHUR6H6qMO"
      },
      "source": [
        "## 4. Funcion Principal"
      ]
    },
    {
      "cell_type": "code",
      "execution_count": 3,
      "metadata": {
        "id": "bsnd12fq6wLk"
      },
      "outputs": [],
      "source": [
        "def main():\n",
        "    '''\n",
        "    main executes selected option\n",
        "\n",
        "    display options and executes validated option\n",
        "    '''\n",
        "    options = dict(\n",
        "        exit=exit\n",
        "    )\n",
        "    \n",
        "    res = True\n",
        "    while res:\n",
        "        for i, k in enumerate(options.keys()):\n",
        "            print(f'{i+1}. {k}')\n",
        "        \n",
        "        option = input('Seleccione Una Opción: ')\n",
        "        while option not in options:\n",
        "            option = input('Opcion no Encontrada. Seleccione Una Opción: ')\n",
        "        \n",
        "        ex = options.get(option, lambda: False)\n",
        "        res = ex()\n",
        "        res_string = f'Resultado:\\n{res}' if res else ''\n",
        "        \n",
        "        print(f'{res_string}\\n{\"=\" *100}')"
      ]
    },
    {
      "cell_type": "markdown",
      "metadata": {
        "id": "-drOkJHi6wwE"
      },
      "source": [
        "## 5. Ejecución"
      ]
    },
    {
      "cell_type": "code",
      "execution_count": 4,
      "metadata": {
        "colab": {
          "base_uri": "https://localhost:8080/"
        },
        "id": "6Nm0DbMV6zcQ",
        "outputId": "d425eac3-37d7-43ed-a395-1a1ea8db21ba"
      },
      "outputs": [
        {
          "name": "stdout",
          "output_type": "stream",
          "text": [
            "1. exit\n",
            "\n",
            "====================================================================================================\n"
          ]
        }
      ],
      "source": [
        "if __name__ == '__main__':\n",
        "    main()"
      ]
    }
  ],
  "metadata": {
    "colab": {
      "include_colab_link": true,
      "name": "main.ipynb",
      "provenance": []
    },
    "interpreter": {
      "hash": "df0893f56f349688326838aaeea0de204df53a132722cbd565e54b24a8fec5f6"
    },
    "kernelspec": {
      "display_name": "Python 3.8.0 64-bit",
      "language": "python",
      "name": "python3"
    },
    "language_info": {
      "codemirror_mode": {
        "name": "ipython",
        "version": 3
      },
      "file_extension": ".py",
      "mimetype": "text/x-python",
      "name": "python",
      "nbconvert_exporter": "python",
      "pygments_lexer": "ipython3",
      "version": "3.9.7"
    },
    "orig_nbformat": 4
  },
  "nbformat": 4,
  "nbformat_minor": 0
}
